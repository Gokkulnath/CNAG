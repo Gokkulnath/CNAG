{
 "cells": [
  {
   "cell_type": "code",
   "execution_count": null,
   "metadata": {},
   "outputs": [],
   "source": [
    "## TODO \n",
    "\n",
    "# \n",
    "# Dataloaders,Datasets and transforms --> data.py\n",
    "# Generator and Pre-trained Models --> models.py\n",
    "# Train Loop and Eval Loop with logging flag --> trainer.py\n",
    "# Run Experiments CLI Wrapper based on Argparse--> run_experiments.py\n",
    "\n",
    "\n",
    "# Challenges :\n",
    "# Virtrual BN implementation and Explanation \n",
    "\n",
    "\n",
    "# References : \n",
    "# https://github.com/krishvishal/NAG-pytorch/blob/master/model.py\n"
   ]
  },
  {
   "cell_type": "markdown",
   "metadata": {},
   "source": [
    "### Generator Architecture: \n",
    "![](assets/Generator_Arch.PNG)"
   ]
  },
  {
   "cell_type": "code",
   "execution_count": null,
   "metadata": {},
   "outputs": [],
   "source": []
  }
 ],
 "metadata": {
  "kernelspec": {
   "display_name": "Python (pytorch)",
   "language": "python",
   "name": "pytorch"
  },
  "language_info": {
   "codemirror_mode": {
    "name": "ipython",
    "version": 3
   },
   "file_extension": ".py",
   "mimetype": "text/x-python",
   "name": "python",
   "nbconvert_exporter": "python",
   "pygments_lexer": "ipython3",
   "version": "3.8.2"
  }
 },
 "nbformat": 4,
 "nbformat_minor": 4
}
